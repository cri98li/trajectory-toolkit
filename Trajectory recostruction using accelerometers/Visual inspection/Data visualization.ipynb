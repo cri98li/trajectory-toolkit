{
 "cells": [
  {
   "cell_type": "code",
   "execution_count": 6,
   "id": "6256a919",
   "metadata": {},
   "outputs": [],
   "source": [
    "import pandas as pd\n",
    "import matplotlib.pyplot as plt\n",
    "import math"
   ]
  },
  {
   "cell_type": "code",
   "execution_count": 82,
   "id": "f2fbf4b9",
   "metadata": {},
   "outputs": [
    {
     "data": {
      "text/html": [
       "<div>\n",
       "<style scoped>\n",
       "    .dataframe tbody tr th:only-of-type {\n",
       "        vertical-align: middle;\n",
       "    }\n",
       "\n",
       "    .dataframe tbody tr th {\n",
       "        vertical-align: top;\n",
       "    }\n",
       "\n",
       "    .dataframe thead th {\n",
       "        text-align: right;\n",
       "    }\n",
       "</style>\n",
       "<table border=\"1\" class=\"dataframe\">\n",
       "  <thead>\n",
       "    <tr style=\"text-align: right;\">\n",
       "      <th></th>\n",
       "      <th>Timpstemp</th>\n",
       "      <th>lat</th>\n",
       "      <th>lon</th>\n",
       "    </tr>\n",
       "  </thead>\n",
       "  <tbody>\n",
       "    <tr>\n",
       "      <th>0</th>\n",
       "      <td>7009129</td>\n",
       "      <td>47.384357</td>\n",
       "      <td>8.545178</td>\n",
       "    </tr>\n",
       "    <tr>\n",
       "      <th>1</th>\n",
       "      <td>7206967</td>\n",
       "      <td>47.384355</td>\n",
       "      <td>8.545179</td>\n",
       "    </tr>\n",
       "    <tr>\n",
       "      <th>2</th>\n",
       "      <td>7402809</td>\n",
       "      <td>47.384353</td>\n",
       "      <td>8.545179</td>\n",
       "    </tr>\n",
       "    <tr>\n",
       "      <th>3</th>\n",
       "      <td>7599573</td>\n",
       "      <td>47.384351</td>\n",
       "      <td>8.545180</td>\n",
       "    </tr>\n",
       "    <tr>\n",
       "      <th>4</th>\n",
       "      <td>7798438</td>\n",
       "      <td>47.384350</td>\n",
       "      <td>8.545180</td>\n",
       "    </tr>\n",
       "  </tbody>\n",
       "</table>\n",
       "</div>"
      ],
      "text/plain": [
       "   Timpstemp        lat       lon\n",
       "0    7009129  47.384357  8.545178\n",
       "1    7206967  47.384355  8.545179\n",
       "2    7402809  47.384353  8.545179\n",
       "3    7599573  47.384351  8.545180\n",
       "4    7798438  47.384350  8.545180"
      ]
     },
     "execution_count": 82,
     "metadata": {},
     "output_type": "execute_result"
    }
   ],
   "source": [
    "df_tr = pd.read_csv(\"OnboardGPS.csv\")[[\"Timpstemp\", \"lat\", \"lon\"]].set_index(\"Timpstemp\").drop_duplicates().reset_index()\n",
    "\n",
    "df_tr.head()"
   ]
  },
  {
   "cell_type": "code",
   "execution_count": 83,
   "id": "56242424",
   "metadata": {},
   "outputs": [
    {
     "data": {
      "text/html": [
       "<div>\n",
       "<style scoped>\n",
       "    .dataframe tbody tr th:only-of-type {\n",
       "        vertical-align: middle;\n",
       "    }\n",
       "\n",
       "    .dataframe tbody tr th {\n",
       "        vertical-align: top;\n",
       "    }\n",
       "\n",
       "    .dataframe thead th {\n",
       "        text-align: right;\n",
       "    }\n",
       "</style>\n",
       "<table border=\"1\" class=\"dataframe\">\n",
       "  <thead>\n",
       "    <tr style=\"text-align: right;\">\n",
       "      <th></th>\n",
       "      <th>Timpstemp</th>\n",
       "      <th>Error_count</th>\n",
       "      <th>x</th>\n",
       "      <th>y</th>\n",
       "      <th>z</th>\n",
       "      <th>temperature</th>\n",
       "      <th>range_rad_s</th>\n",
       "      <th>scaling</th>\n",
       "      <th>x_raw</th>\n",
       "      <th>y_raw</th>\n",
       "      <th>z_raw</th>\n",
       "      <th>temperature_raw</th>\n",
       "      <th>Unnamed: 12</th>\n",
       "    </tr>\n",
       "  </thead>\n",
       "  <tbody>\n",
       "    <tr>\n",
       "      <th>0</th>\n",
       "      <td>7090906</td>\n",
       "      <td>0</td>\n",
       "      <td>0.244930</td>\n",
       "      <td>0.193673</td>\n",
       "      <td>-10.587221</td>\n",
       "      <td>9.648201</td>\n",
       "      <td>156.906403</td>\n",
       "      <td>0.004788</td>\n",
       "      <td>-20</td>\n",
       "      <td>-80</td>\n",
       "      <td>-2195</td>\n",
       "      <td>-9152</td>\n",
       "      <td></td>\n",
       "    </tr>\n",
       "    <tr>\n",
       "      <th>1</th>\n",
       "      <td>7190913</td>\n",
       "      <td>0</td>\n",
       "      <td>0.191809</td>\n",
       "      <td>-0.487059</td>\n",
       "      <td>-9.608912</td>\n",
       "      <td>9.648201</td>\n",
       "      <td>156.906403</td>\n",
       "      <td>0.004788</td>\n",
       "      <td>107</td>\n",
       "      <td>-31</td>\n",
       "      <td>-1980</td>\n",
       "      <td>-9152</td>\n",
       "      <td></td>\n",
       "    </tr>\n",
       "    <tr>\n",
       "      <th>2</th>\n",
       "      <td>7290907</td>\n",
       "      <td>0</td>\n",
       "      <td>0.004109</td>\n",
       "      <td>-0.240623</td>\n",
       "      <td>-8.075992</td>\n",
       "      <td>9.645430</td>\n",
       "      <td>156.906403</td>\n",
       "      <td>0.004788</td>\n",
       "      <td>-142</td>\n",
       "      <td>-86</td>\n",
       "      <td>-1600</td>\n",
       "      <td>-9153</td>\n",
       "      <td></td>\n",
       "    </tr>\n",
       "    <tr>\n",
       "      <th>3</th>\n",
       "      <td>7391908</td>\n",
       "      <td>0</td>\n",
       "      <td>-0.854582</td>\n",
       "      <td>-0.515484</td>\n",
       "      <td>-8.208664</td>\n",
       "      <td>9.648201</td>\n",
       "      <td>156.906403</td>\n",
       "      <td>0.004788</td>\n",
       "      <td>-139</td>\n",
       "      <td>-146</td>\n",
       "      <td>-1726</td>\n",
       "      <td>-9152</td>\n",
       "      <td></td>\n",
       "    </tr>\n",
       "    <tr>\n",
       "      <th>4</th>\n",
       "      <td>7490907</td>\n",
       "      <td>0</td>\n",
       "      <td>-0.537616</td>\n",
       "      <td>0.054402</td>\n",
       "      <td>-9.014673</td>\n",
       "      <td>9.637119</td>\n",
       "      <td>156.906403</td>\n",
       "      <td>0.004788</td>\n",
       "      <td>-40</td>\n",
       "      <td>-10</td>\n",
       "      <td>-1969</td>\n",
       "      <td>-9156</td>\n",
       "      <td></td>\n",
       "    </tr>\n",
       "  </tbody>\n",
       "</table>\n",
       "</div>"
      ],
      "text/plain": [
       "   Timpstemp  Error_count         x         y          z  temperature  \\\n",
       "0    7090906            0  0.244930  0.193673 -10.587221     9.648201   \n",
       "1    7190913            0  0.191809 -0.487059  -9.608912     9.648201   \n",
       "2    7290907            0  0.004109 -0.240623  -8.075992     9.645430   \n",
       "3    7391908            0 -0.854582 -0.515484  -8.208664     9.648201   \n",
       "4    7490907            0 -0.537616  0.054402  -9.014673     9.637119   \n",
       "\n",
       "   range_rad_s   scaling  x_raw  y_raw  z_raw  temperature_raw Unnamed: 12  \n",
       "0   156.906403  0.004788    -20    -80  -2195            -9152              \n",
       "1   156.906403  0.004788    107    -31  -1980            -9152              \n",
       "2   156.906403  0.004788   -142    -86  -1600            -9153              \n",
       "3   156.906403  0.004788   -139   -146  -1726            -9152              \n",
       "4   156.906403  0.004788    -40    -10  -1969            -9156              "
      ]
     },
     "execution_count": 83,
     "metadata": {},
     "output_type": "execute_result"
    }
   ],
   "source": [
    "df_acc = pd.read_csv(\"RawAccel.csv\")\n",
    "\n",
    "df_acc.head()"
   ]
  },
  {
   "cell_type": "code",
   "execution_count": 87,
   "id": "37b6b7fe",
   "metadata": {},
   "outputs": [
    {
     "name": "stdout",
     "output_type": "stream",
     "text": [
      "angolo 45.0\n"
     ]
    },
    {
     "data": {
      "image/png": "[encoded data removed]",
      "text/plain": [
       "<Figure size 432x288 with 1 Axes>"
      ]
     },
     "metadata": {
      "needs_background": "light"
     },
     "output_type": "display_data"
    }
   ],
   "source": [
    "def plotSegment(lat1, lon1, lat2, lon2, acc_x, acc_y, acc_z):\n",
    "    plt.plot([lat1, lat2], [lon1, lon2])\n",
    "    d_lat = abs(lat2-lat1)\n",
    "    d_lon = abs(lon2-lon1)\n",
    "    \n",
    "    theta = math.atan2(d_lat, d_lon)\n",
    "    plt.gca().set_aspect('equal', adjustable='box')\n",
    "    print(f\"angolo {theta*180/math.pi}\")\n",
    "    plt.plot([lat1, lat1+d_lat*acc_x*math.cos(theta)/100], [lon1, lon1+d_lon*acc_x*math.sin(theta)/100], '--')\n",
    "    plt.plot([lat1, lat1+d_lat*acc_x*math.cos(theta+math.pi/2)/100], [lon1, lon1+d_lon*acc_x*math.sin(theta+math.pi/2)/100], '--')\n",
    "    \n",
    "plotSegment(1,1,3,3,1,1,2)"
   ]
  },
  {
   "cell_type": "code",
   "execution_count": null,
   "id": "72fb83a2",
   "metadata": {},
   "outputs": [],
   "source": []
  },
  {
   "cell_type": "code",
   "execution_count": 88,
   "id": "ab467db5",
   "metadata": {},
   "outputs": [],
   "source": [
    "def findNearest(timestamp, acc_np):\n",
    "    prec = (-1, float(\"inf\"))\n",
    "    for i, row in enumerate(acc_np):\n",
    "        if timestamp < row[0]:\n",
    "            if abs(timestamp - row[0]) < prec[1]:\n",
    "                return i\n",
    "            else:\n",
    "                return prec[0]\n",
    "        prec = (i, timestamp - row[0])\n",
    "    \n",
    "    return prec[0]"
   ]
  },
  {
   "cell_type": "code",
   "execution_count": 89,
   "id": "8027822f",
   "metadata": {},
   "outputs": [
    {
     "name": "stdout",
     "output_type": "stream",
     "text": [
      "[[2.69891460e+07 4.73843553e+01 8.54514270e+00]\n",
      " [2.71837780e+07 4.73843554e+01 8.54514160e+00]] best at199 [ 0.29212433 -0.55542946 -9.23044491]\n",
      "angolo 5.194428599064581\n"
     ]
    },
    {
     "data": {
      "image/png": "[encoded data removed]",
      "text/plain": [
       "<Figure size 432x288 with 1 Axes>"
      ]
     },
     "metadata": {
      "needs_background": "light"
     },
     "output_type": "display_data"
    }
   ],
   "source": [
    "index = 100\n",
    "gps = df_tr[[\"Timpstemp\", \"lat\", \"lon\"]].values[index:index+2, :]\n",
    "acc_index = findNearest(gps[0, 0], df_acc.values)\n",
    "acc = df_acc[[\"x\", \"y\", \"z\"]].values[acc_index, :]\n",
    "\n",
    "print(gps, f\"best at{acc_index}\", acc)\n",
    "plotSegment(gps[0, 1], gps[0, 2], gps[1, 1], gps[1, 2], acc[0], acc[1], acc[2])"
   ]
  },
  {
   "cell_type": "code",
   "execution_count": 77,
   "id": "9f1468db",
   "metadata": {},
   "outputs": [
    {
     "data": {
      "text/plain": [
       "(47.3843507,\n",
       " 8.5451956,\n",
       " 47.3843507,\n",
       " 8.5451956,\n",
       " 0.060857817530632,\n",
       " -0.762070894241333,\n",
       " -9.18995761871338)"
      ]
     },
     "execution_count": 77,
     "metadata": {},
     "output_type": "execute_result"
    }
   ],
   "source": [
    "(gps[0, 1], gps[0, 2], gps[1, 1], gps[1, 2], acc[0], acc[1], acc[2])"
   ]
  }
 ],
 "metadata": {
  "kernelspec": {
   "display_name": "Python 3 (ipykernel)",
   "language": "python",
   "name": "python3"
  },
  "language_info": {
   "codemirror_mode": {
    "name": "ipython",
    "version": 3
   },
   "file_extension": ".py",
   "mimetype": "text/x-python",
   "name": "python",
   "nbconvert_exporter": "python",
   "pygments_lexer": "ipython3",
   "version": "3.9.7"
  }
 },
 "nbformat": 4,
 "nbformat_minor": 5
}
